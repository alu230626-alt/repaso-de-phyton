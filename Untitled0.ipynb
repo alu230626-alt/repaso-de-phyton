{
  "nbformat": 4,
  "nbformat_minor": 0,
  "metadata": {
    "colab": {
      "provenance": [],
      "authorship_tag": "ABX9TyPFtL/ZyR9rlOupYjSy7GeD",
      "include_colab_link": true
    },
    "kernelspec": {
      "name": "python3",
      "display_name": "Python 3"
    },
    "language_info": {
      "name": "python"
    }
  },
  "cells": [
    {
      "cell_type": "markdown",
      "metadata": {
        "id": "view-in-github",
        "colab_type": "text"
      },
      "source": [
        "<a href=\"https://colab.research.google.com/github/alu230626-alt/repaso-de-phyton/blob/main/Untitled0.ipynb\" target=\"_parent\"><img src=\"https://colab.research.google.com/assets/colab-badge.svg\" alt=\"Open In Colab\"/></a>"
      ]
    },
    {
      "cell_type": "code",
      "execution_count": null,
      "metadata": {
        "id": "X-doIyr3-vZJ"
      },
      "outputs": [],
      "source": []
    },
    {
      "cell_type": "markdown",
      "source": [
        "ejercicios a desarrollar en colab com GitHun\n",
        "\n",
        "1. Realizar un programa en python que te permita capturar 2 numeros enteros e imprima la suma,la resta,la multiplicacion y la division de ambos.\n",
        "\n",
        "2. realizar un programa en python mediante el cual calcules el total de caracteres que tiene un nombre capturadp desde el teclado.\n",
        "\n",
        "3.realizar un programa en python que permita imprimit los 7 dias de la semana ."
      ],
      "metadata": {
        "id": "MNrBSiT0-0Bb"
      }
    },
    {
      "cell_type": "code",
      "source": [
        "n1=int(input(\"coloca el primer numero: \"))\n",
        "n2=int(input(\"coloca el segundo numero: \"))\n",
        "print(\"el resultado de\",n1,\"+\",n2,\"=\",(n1+n2))\n",
        "print(\"el resultado de\",n1,\"-\",n2,\"=\",(n1-n2))\n",
        "print(\"el resultado de\",n1,\"*\",2,\"=\",(n1*n2))\n",
        "print(\"el resultado de\",n1,\"/\",n2,\"=\",(n1/n2))\n"
      ],
      "metadata": {
        "colab": {
          "base_uri": "https://localhost:8080/"
        },
        "id": "3H-mcf05_hHD",
        "outputId": "645ccde5-5e79-4a18-de8e-0260b66567cf"
      },
      "execution_count": 15,
      "outputs": [
        {
          "output_type": "stream",
          "name": "stdout",
          "text": [
            "coloca el primer numero2\n",
            "coloca el segundo numero2\n",
            "el resultado de 2 + 2 = 4\n",
            "el resultado de 2 - 2 = 0\n",
            "el resultado de 2 * 2 = 4\n",
            "el resultado de 2 / 2 = 1.0\n"
          ]
        }
      ]
    },
    {
      "cell_type": "markdown",
      "source": [
        "codigo 2"
      ],
      "metadata": {
        "id": "DqACV4-tDL-_"
      }
    },
    {
      "cell_type": "code",
      "source": [
        "nombre=input(\"ingresa tu nombre: \")\n",
        "totalletras=len(nombre)\n",
        "print(\"el total de caracteres es\",totalletras)"
      ],
      "metadata": {
        "id": "ZKw27pN_DOHe"
      },
      "execution_count": null,
      "outputs": []
    },
    {
      "cell_type": "markdown",
      "source": [
        "codigo 3"
      ],
      "metadata": {
        "id": "D1u7OvdmERes"
      }
    },
    {
      "cell_type": "code",
      "source": [
        "semana=[\"lunes\",\"martes\",\"miercoles\",\"jueves\",\"viernes\",\"sabado\",\"domingo\"]\n",
        "print(semana)"
      ],
      "metadata": {
        "colab": {
          "base_uri": "https://localhost:8080/"
        },
        "id": "ZOIcAZhnETYD",
        "outputId": "ef09c93d-3c50-452a-a0c6-d002d4c0a222"
      },
      "execution_count": 17,
      "outputs": [
        {
          "output_type": "stream",
          "name": "stdout",
          "text": [
            "['lunes', 'martes', 'miercoles', 'jueves', 'viernes', 'sabado', 'domingo']\n"
          ]
        }
      ]
    }
  ]
}