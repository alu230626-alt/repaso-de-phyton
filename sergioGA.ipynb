{
  "nbformat": 4,
  "nbformat_minor": 0,
  "metadata": {
    "colab": {
      "provenance": [],
      "authorship_tag": "ABX9TyPK+ngO/cvf55uFbN3x99Fg",
      "include_colab_link": true
    },
    "kernelspec": {
      "name": "python3",
      "display_name": "Python 3"
    },
    "language_info": {
      "name": "python"
    }
  },
  "cells": [
    {
      "cell_type": "markdown",
      "metadata": {
        "id": "view-in-github",
        "colab_type": "text"
      },
      "source": [
        "<a href=\"https://colab.research.google.com/github/alu230626-alt/repaso-de-phyton/blob/main/sergioGA.ipynb\" target=\"_parent\"><img src=\"https://colab.research.google.com/assets/colab-badge.svg\" alt=\"Open In Colab\"/></a>"
      ]
    },
    {
      "cell_type": "code",
      "execution_count": null,
      "metadata": {
        "id": "KiOz2PJC5eSW"
      },
      "outputs": [],
      "source": []
    },
    {
      "cell_type": "markdown",
      "source": [
        "programa 1 en phyton para imprimir el nombre con hola mundo"
      ],
      "metadata": {
        "id": "q8vPOdZ65uhp"
      }
    },
    {
      "cell_type": "code",
      "source": [
        "print (\"hoa mundo\")\n",
        "nombre=(input(\"captura tu nombre: \"))\n",
        "print (nombre)"
      ],
      "metadata": {
        "colab": {
          "base_uri": "https://localhost:8080/"
        },
        "id": "hsxHTkNR55aY",
        "outputId": "c627485d-1f2b-4ebc-c984-2f544e2f7f76"
      },
      "execution_count": 2,
      "outputs": [
        {
          "output_type": "stream",
          "name": "stdout",
          "text": [
            "hoa mundo\n",
            "captura tu nombre: leonardo\n",
            "leonardo\n"
          ]
        }
      ]
    },
    {
      "cell_type": "markdown",
      "source": [
        "programa 2 capturar tu nombre ,paterno y materno e imprimirlo"
      ],
      "metadata": {
        "id": "KUwMPBtB6-ae"
      }
    },
    {
      "cell_type": "code",
      "source": [
        "nombre=(input(\"coloca tu nombre completo: \"))\n",
        "apellidos=(input(\"coloca tu apellido paterno y materno: \"))\n",
        "print(nombre+\" \"+apellidos)"
      ],
      "metadata": {
        "colab": {
          "base_uri": "https://localhost:8080/"
        },
        "id": "XsP4Zjd67HsF",
        "outputId": "7f68315f-9054-4ae4-ea79-83ff4cc0fc32"
      },
      "execution_count": 3,
      "outputs": [
        {
          "output_type": "stream",
          "name": "stdout",
          "text": [
            "coloca tu nombre completo: sergio leonardo\n",
            "coloca tu apellido paterno y maternogarcia almanzan\n",
            "sergio leonardo garcia almanzan\n"
          ]
        }
      ]
    }
  ]
}